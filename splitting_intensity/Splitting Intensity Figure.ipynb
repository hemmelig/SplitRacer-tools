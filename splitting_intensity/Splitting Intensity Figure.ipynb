{
 "cells": [
  {
   "cell_type": "markdown",
   "metadata": {},
   "source": [
    "# Splitting intensity figures\n",
    "\n",
    "This notebook contains code to make high-quality figures showing the splitting intensity measurements and best-fitting sinusoid (the splitting vector) made using the SplitRacer software (Reiss et al., 2017).\n",
    "\n",
    "## To-do\n",
    "- Improve the uncertainty bounding. Should really be calculated across a whole range of backazimuths to get a true bound\n",
    "- Expose the y-limits OR come up with a scheme to set them automatically."
   ]
  },
  {
   "cell_type": "code",
   "execution_count": null,
   "metadata": {
    "code_folding": []
   },
   "outputs": [],
   "source": [
    "# --- Import libraries and setup styles ---\n",
    "import pathlib\n",
    "import warnings\n",
    "\n",
    "import matplotlib as mpl\n",
    "import matplotlib.pyplot as plt\n",
    "import numpy as np\n",
    "import pandas as pd\n",
    "\n",
    "try:\n",
    "    plt.style.use(\"figures\")\n",
    "except OSError:\n",
    "    warnings.warn(\"You have not added the 'publication.mplstyle' stylesheet to your\"\n",
    "                  \" matplotlib config - continuing with matplotlib defaults.\")\n",
    "mpl.rcParams[\"font.family\"] = \"Helvetica\""
   ]
  },
  {
   "cell_type": "code",
   "execution_count": null,
   "metadata": {
    "code_folding": [
     2,
     10
    ]
   },
   "outputs": [],
   "source": [
    "# --- Utility functions ---\n",
    "def plot_results_scatter(ax, df, clr, category):\n",
    "    \"\"\"Plot the splitting intensity measurements.\"\"\"\n",
    "    \n",
    "    df = df[df[\"category\"].str.contains(category)]\n",
    "\n",
    "    ax.scatter(df[\"baz\"].values, df[\"SplitInt\"].values, marker=\"x\",\n",
    "               color=clr, label=f\"{category.title()} results\")\n",
    "\n",
    "def create_si_figure(splits, si_fit, station):\n",
    "    \"\"\"Create the splitting intensity figure.\"\"\"\n",
    "    # Create figure\n",
    "    fig, ax = plt.subplots(1, figsize=(15, 10))\n",
    "\n",
    "    # --- Plot splitting intensity best fit ---\n",
    "    # Unpack variables from file\n",
    "    fast_direction, delay_time, fast_err, delay_err = si_fit.loc[0]\n",
    "\n",
    "    # Create splitting intensity function and uncertainties\n",
    "    x = np.arange(0, 360, 0.01)\n",
    "    best_fit = delay_time * np.sin(np.pi * (x - fast_direction) / 90)\n",
    "    fit_min1 = (delay_time - delay_err) * np.sin(np.pi * (x - (fast_direction - fast_err)) / 90)\n",
    "    fit_max1 = (delay_time + delay_err) * np.sin(np.pi * (x - (fast_direction + fast_err)) / 90)\n",
    "    fit_min2 = (delay_time - delay_err) * np.sin(np.pi * (x - (fast_direction + fast_err)) / 90)\n",
    "    fit_max2 = (delay_time + delay_err) * np.sin(np.pi * (x - (fast_direction - fast_err)) / 90)\n",
    "\n",
    "    fit_min, fit_max = [], []\n",
    "    for vals in zip(fit_min1, fit_min2, fit_max1, fit_max2):\n",
    "        fit_min.append(min(vals))\n",
    "        fit_max.append(max(vals))\n",
    "\n",
    "    # Plot\n",
    "    plt.plot(x, best_fit, label=\"SVD\", color=\"red\", linewidth=1.5, linestyle=\"--\")\n",
    "    plt.fill_between(x, fit_min, fit_max, color=\"red\", alpha=0.05)\n",
    "\n",
    "    # --- Plot splitting intensity scatter ---\n",
    "    for category, clr in zip([\"null\", \"average\", \"good\"], [\"#dddddd\", \"#fdae61\", \"#2c7bb6\"]):\n",
    "        plot_results_scatter(ax, splits, clr, category)\n",
    "\n",
    "    # --- Configure plot details ---\n",
    "    ax.set_ylabel(\"Splitting intensity\")\n",
    "    ax.set_xlabel(\"Backazimuth, °\")\n",
    "    plt.xlim([0, 360])\n",
    "    plt.ylim([-1, 1])\n",
    "    xtickrange = np.arange(0, 361, 30)\n",
    "    ax.set_xticks(xtickrange)\n",
    "    ax.set_xticklabels(xtickrange)\n",
    "    plt.legend(fontsize=16, loc=0)\n",
    "    plt.title(f\"{station} - \\u03C6 = {fast_direction:3.0f} \\u00B1 \"\n",
    "              f\"{fast_err:3.0f}\\u00B0; \\u03B4t = {delay_time:3.2f} \"\n",
    "              f\"\\u00B1 {delay_err:3.2f} s\")\n",
    "\n",
    "    # --- Save figure ---\n",
    "    plt.savefig(output_dir / f\"{station}_splitting_intensity.pdf\",\n",
    "                dpi=400, bbox_inches=\"tight\")"
   ]
  },
  {
   "cell_type": "code",
   "execution_count": null,
   "metadata": {},
   "outputs": [],
   "source": [
    "# --- SET PATHS ---\n",
    "results_path = pathlib.Path(\"/path/to/results\")\n",
    "output_dir = pathlib.Path(\"/path/to/output/figures\")\n",
    "\n",
    "output_dir.mkdir(parents=True, exist_ok=True)"
   ]
  },
  {
   "cell_type": "code",
   "execution_count": null,
   "metadata": {
    "code_folding": []
   },
   "outputs": [],
   "source": [
    "# --- Plot for specific station ---\n",
    "station = \"KKM\"\n",
    "splits = pd.read_csv(results_path / station / \"Single_Splitting/splitting_results.txt\",\n",
    "                     delim_whitespace=True)\n",
    "si_fit = pd.read_csv(results_path / station / \"Single_Splitting/SI_results.txt\",\n",
    "                     header=None, delim_whitespace=True)\n",
    "\n",
    "create_si_figure(splits, si_fit, station)"
   ]
  },
  {
   "cell_type": "code",
   "execution_count": null,
   "metadata": {},
   "outputs": [],
   "source": [
    "# --- Plot for all stations ---\n",
    "stations = list(results_path.glob(\"*/\"))\n",
    "for station in stations:\n",
    "    splits = pd.read_csv(station / \"Single_Splitting/splitting_results.txt\",\n",
    "                         delim_whitespace=True)\n",
    "    si_fit = pd.read_csv(station / \"Single_Splitting/SI_results.txt\",\n",
    "                         header=None, delim_whitespace=True)\n",
    "    \n",
    "    station = station.name\n",
    "    \n",
    "    create_si_figure(splits, si_fit, station)"
   ]
  }
 ],
 "metadata": {
  "kernelspec": {
   "display_name": "Python 3",
   "language": "python",
   "name": "python3"
  },
  "language_info": {
   "codemirror_mode": {
    "name": "ipython",
    "version": 3
   },
   "file_extension": ".py",
   "mimetype": "text/x-python",
   "name": "python",
   "nbconvert_exporter": "python",
   "pygments_lexer": "ipython3",
   "version": "3.7.8"
  },
  "toc": {
   "base_numbering": 1,
   "nav_menu": {},
   "number_sections": true,
   "sideBar": true,
   "skip_h1_title": false,
   "title_cell": "Table of Contents",
   "title_sidebar": "Contents",
   "toc_cell": false,
   "toc_position": {},
   "toc_section_display": true,
   "toc_window_display": false
  }
 },
 "nbformat": 4,
 "nbformat_minor": 4
}
